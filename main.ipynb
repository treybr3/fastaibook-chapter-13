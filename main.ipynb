{
 "cells": [
  {
   "cell_type": "code",
   "execution_count": null,
   "metadata": {},
   "outputs": [],
   "source": [
    "# being ran in shell \n",
    "\n",
    "# script that inputs data from directory and transforms data \n",
    "    #into correct rows and columns and cleans it for pytorch \n",
    "    # model \n",
    "    \n",
    "    # should be "
   ]
  },
  {
   "cell_type": "code",
   "execution_count": null,
   "metadata": {},
   "outputs": [],
   "source": [
    "# Suppose this is foo.py.\n",
    "\n",
    "print(\"before import\")\n",
    "import math\n",
    "\n",
    "print(\"before functionA\")\n",
    "def functionA():\n",
    "    print(\"Function A\")\n",
    "\n",
    "print(\"before functionB\")\n",
    "def functionB():\n",
    "    print(\"Function B {}\".format(math.sqrt(100)))\n",
    "\n",
    "print(\"before __name__ guard\")\n",
    "if __name__ == '__main__':\n",
    "    functionA()\n",
    "    functionB()\n",
    "print(\"after __name__ guard\")"
   ]
  }
 ],
 "metadata": {
  "kernelspec": {
   "display_name": "Python 3",
   "language": "python",
   "name": "python3"
  },
  "language_info": {
   "codemirror_mode": {
    "name": "ipython",
    "version": 3
   },
   "file_extension": ".py",
   "mimetype": "text/x-python",
   "name": "python",
   "nbconvert_exporter": "python",
   "pygments_lexer": "ipython3",
   "version": "3.6.8"
  }
 },
 "nbformat": 4,
 "nbformat_minor": 2
}
